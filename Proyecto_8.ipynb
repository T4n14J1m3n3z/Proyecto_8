{
 "cells": [
  {
   "cell_type": "markdown",
   "metadata": {},
   "source": [
    "# <center>**PROYECTO 8**</center> "
   ]
  },
  {
   "cell_type": "markdown",
   "metadata": {},
   "source": [
    "# Descripción del proyecto."
   ]
  },
  {
   "cell_type": "markdown",
   "metadata": {},
   "source": [
    "La compañía móvil Megaline no está satisfecha al ver que muchos de sus clientes utilizan planes heredados. Quieren desarrollar un modelo que pueda analizar el comportamiento de los clientes y recomendar uno de los nuevos planes de Megaline: Smart o Ultra."
   ]
  },
  {
   "cell_type": "markdown",
   "metadata": {},
   "source": [
    "##  Revisión dimensional de datos y planeación."
   ]
  },
  {
   "cell_type": "markdown",
   "metadata": {},
   "source": [
    "De acuerdo a la descripción del proyecto, el objetivo es la creación de un modelo con un algoritmo de clasificación, así que se llamaran las librerias correspondientes para poder trabajar con las diferentes técnicas y ver la mas eficiente al momento de aplicarse al modelo."
   ]
  },
  {
   "cell_type": "markdown",
   "metadata": {},
   "source": [
    "### Importe de librerías "
   ]
  },
  {
   "cell_type": "code",
   "execution_count": 17,
   "metadata": {},
   "outputs": [],
   "source": [
    "import pandas as pd\n",
    "from sklearn.model_selection import train_test_split\n",
    "from sklearn.tree import DecisionTreeClassifier\n",
    "from sklearn.ensemble import RandomForestClassifier\n",
    "from sklearn.linear_model import LogisticRegression\n",
    "from sklearn.metrics import accuracy_score\n",
    "from sklearn.dummy import DummyClassifier\n",
    "import seaborn as sns\n",
    "import matplotlib.pyplot as plt"
   ]
  },
  {
   "cell_type": "markdown",
   "metadata": {},
   "source": [
    "### Análisis general de datos"
   ]
  },
  {
   "cell_type": "code",
   "execution_count": 18,
   "metadata": {},
   "outputs": [
    {
     "name": "stdout",
     "output_type": "stream",
     "text": [
      "(3214, 5)\n",
      "\n",
      "\n",
      "<class 'pandas.core.frame.DataFrame'>\n",
      "RangeIndex: 3214 entries, 0 to 3213\n",
      "Data columns (total 5 columns):\n",
      " #   Column    Non-Null Count  Dtype  \n",
      "---  ------    --------------  -----  \n",
      " 0   calls     3214 non-null   float64\n",
      " 1   minutes   3214 non-null   float64\n",
      " 2   messages  3214 non-null   float64\n",
      " 3   mb_used   3214 non-null   float64\n",
      " 4   is_ultra  3214 non-null   int64  \n",
      "dtypes: float64(4), int64(1)\n",
      "memory usage: 125.7 KB\n",
      "\n",
      "\n",
      "   calls  minutes  messages   mb_used  is_ultra\n",
      "0   40.0   311.90      83.0  19915.42         0\n",
      "1   85.0   516.75      56.0  22696.96         0\n",
      "2   77.0   467.66      86.0  21060.45         0\n",
      "3  106.0   745.53      81.0   8437.39         1\n",
      "4   66.0   418.74       1.0  14502.75         0\n"
     ]
    }
   ],
   "source": [
    "df = pd.read_csv('/datasets/users_behavior.csv')\n",
    "print(df.shape)\n",
    "print('\\n')\n",
    "df.info()\n",
    "print('\\n')\n",
    "print(df.head(5))"
   ]
  },
  {
   "cell_type": "markdown",
   "metadata": {},
   "source": [
    "<div class=\"alert alert-block alert-success\">\n",
    "<b>Comentario del revisor</b> <a class=\"tocSkip\"></a>\n",
    "    \n",
    "Buen trabajo con la importación de datos y de librerías.\n",
    "</div>"
   ]
  },
  {
   "cell_type": "markdown",
   "metadata": {},
   "source": [
    "Podemos observar que el número de observaciones coinciden con las obtenidas en la fórmula: 'shape' que son de 3214, así que no hay números ausentes. \n",
    "Para el objetivo se establecerá la columna: 'is_ultra' y las características las demás columnas."
   ]
  },
  {
   "cell_type": "markdown",
   "metadata": {},
   "source": [
    "## Segmentación de datos."
   ]
  },
  {
   "cell_type": "markdown",
   "metadata": {},
   "source": [
    "### Dataframe para conjunto de prueba, entrenamiento y validación:"
   ]
  },
  {
   "cell_type": "markdown",
   "metadata": {},
   "source": [
    "Se realizará una división del dataframe a una proporción de 3:1:1 (entrenamiento, validación y prueba, respectivamente)"
   ]
  },
  {
   "cell_type": "code",
   "execution_count": 19,
   "metadata": {},
   "outputs": [
    {
     "name": "stdout",
     "output_type": "stream",
     "text": [
      "(643, 4)\n",
      "(643,)\n",
      "(1928, 4)\n",
      "(1928,)\n",
      "(643, 4)\n",
      "(643,)\n"
     ]
    }
   ],
   "source": [
    "\n",
    "# Asignación de características y objetivos al dataset original para su división.\n",
    "features = df.drop(['is_ultra'], axis=1)\n",
    "target = df['is_ultra']\n",
    "\n",
    "\n",
    "# Dividir los datos en conjunto de entrenamiento y prueba\n",
    "train_features, test_features, train_target, test_target = train_test_split(\n",
    "    features, target, test_size=0.2, random_state=2468)\n",
    "\n",
    "# Dividir el conjunto de entrenamiento en conjunto de entrenamiento y validación\n",
    "train_features, valid_features, train_target, valid_target = train_test_split(\n",
    "    train_features, train_target, test_size=0.25, random_state=2468)\n",
    "\n",
    "# prueba del tamaño de los dataframes\n",
    "print(test_features.shape)\n",
    "print(test_target.shape)\n",
    "print(train_features.shape)\n",
    "print(train_target.shape)\n",
    "print(valid_features.shape)\n",
    "print(valid_target.shape)"
   ]
  },
  {
   "cell_type": "markdown",
   "metadata": {},
   "source": [
    "Ahora podemos ver que la división se realizó correctamente"
   ]
  },
  {
   "cell_type": "markdown",
   "metadata": {},
   "source": [
    "## Entrenamiento con diferentes modelos."
   ]
  },
  {
   "cell_type": "markdown",
   "metadata": {},
   "source": [
    "### Prueba con árbol de decisiones"
   ]
  },
  {
   "cell_type": "markdown",
   "metadata": {},
   "source": [
    "En el siguiente ejercicio se determinará cual es la mejor opción para la profundidad del árbol entre 1 - 5, realizando el modelo con el conjunto de entreanamiento y ver su eficacia con el de validación, aplicando un random_state de 24680."
   ]
  },
  {
   "cell_type": "code",
   "execution_count": 20,
   "metadata": {},
   "outputs": [
    {
     "name": "stdout",
     "output_type": "stream",
     "text": [
      "Exactitud del mejor modelo en el conjunto de validación: 0.7822706065318819 con una profundidad de: 4\n"
     ]
    }
   ],
   "source": [
    "best_model = None\n",
    "best_result = 0\n",
    "best_depth = None\n",
    "\n",
    "for depth in range(1, 6):\n",
    "    model = DecisionTreeClassifier(random_state=24680, max_depth=depth)\n",
    "    model.fit(train_features, train_target)\n",
    "    result = model.score(valid_features, valid_target)\n",
    "    if result > best_result:\n",
    "        best_model = model\n",
    "        best_result = result\n",
    "        best_depth = depth\n",
    "\n",
    "print(f\"Exactitud del mejor modelo en el conjunto de validación: {\n",
    "      best_result} con una profundidad de: {best_depth}\")"
   ]
  },
  {
   "cell_type": "markdown",
   "metadata": {},
   "source": [
    "### Prueba con bosque aleatorio"
   ]
  },
  {
   "cell_type": "markdown",
   "metadata": {},
   "source": [
    "En el siguiente ejercicio se determinará cual es la mejor opción con un bosque aleatorio entre 1 - 21, realizando el modelo con el conjunto de entreanamiento y ver su eficacia con el de validación, aplicando un random_state de 24680."
   ]
  },
  {
   "cell_type": "code",
   "execution_count": 21,
   "metadata": {},
   "outputs": [
    {
     "name": "stdout",
     "output_type": "stream",
     "text": [
      "La exactitud del mejor modelo en el conjunto de validación (n_estimators = 47): 0.7900466562986003\n"
     ]
    }
   ],
   "source": [
    "best_score = 0\n",
    "best_est = 0\n",
    "for est in range(1, 51):\n",
    "    model = RandomForestClassifier(random_state=24680, n_estimators=est)\n",
    "    model.fit(train_features, train_target)\n",
    "    score = model.score(valid_features, valid_target)\n",
    "    if score > best_score:\n",
    "        best_score = score\n",
    "        best_est = est\n",
    "\n",
    "print(f\"La exactitud del mejor modelo en el conjunto de validación (n_estimators = {\n",
    "      best_est}): {best_score}\")"
   ]
  },
  {
   "cell_type": "markdown",
   "metadata": {},
   "source": [
    "### Prueba con bosque aleatorio e hiperparámetro de profundidad\n"
   ]
  },
  {
   "cell_type": "markdown",
   "metadata": {},
   "source": [
    "se realizará la siguiente prueba para ver si se puede ajustar con menos árboles y una profundidad de 1 a 5, para que no caiga en sobreajuste.\n"
   ]
  },
  {
   "cell_type": "code",
   "execution_count": 22,
   "metadata": {},
   "outputs": [
    {
     "name": "stdout",
     "output_type": "stream",
     "text": [
      "La exactitud del mejor modelo en el conjunto de validación (n_estimators = 30, max_depth = 5): 0.7962674961119751\n"
     ]
    }
   ],
   "source": [
    "best_score = 0\n",
    "best_est = 0\n",
    "best_depth = 0\n",
    "\n",
    "for est in range(10, 51, 10):\n",
    "    for depth in range(1, 6):  # Puedes ajustar el rango de profundidad según tus necesidades\n",
    "        model = RandomForestClassifier(\n",
    "            random_state=24680, n_estimators=est, max_depth=depth)\n",
    "        model.fit(train_features, train_target)\n",
    "        score = model.score(valid_features, valid_target)\n",
    "        if score > best_score:\n",
    "            best_score = score\n",
    "            best_est = est\n",
    "            best_depth = depth\n",
    "\n",
    "print(f\"La exactitud del mejor modelo en el conjunto de validación (n_estimators = {\n",
    "      best_est}, max_depth = {best_depth}): {best_score}\")"
   ]
  },
  {
   "cell_type": "markdown",
   "metadata": {},
   "source": [
    "### Prueba con regresión logística."
   ]
  },
  {
   "cell_type": "markdown",
   "metadata": {},
   "source": [
    "En el siguiente ejercicio se determinará cual es la mejor opción para la prueba con regresión logística, realizando el modelo con el conjunto de entreanamiento y ver su eficacia tanto con el de validación como con el de entrenamiento, aplicando un random_state de 24680."
   ]
  },
  {
   "cell_type": "code",
   "execution_count": 23,
   "metadata": {},
   "outputs": [
    {
     "name": "stdout",
     "output_type": "stream",
     "text": [
      "Accuracy del modelo de regresión logística en el conjunto de entrenamiento: 0.7048755186721992\n",
      "Accuracy del modelo de regresión logística en el conjunto de validación: 0.6858475894245724\n"
     ]
    }
   ],
   "source": [
    "model = LogisticRegression(random_state=24680, solver='liblinear')\n",
    "model.fit(train_features, train_target)\n",
    "score_train = model.score(train_features, train_target)\n",
    "score_valid = model.score(valid_features, valid_target)\n",
    "\n",
    "print(\"Accuracy del modelo de regresión logística en el conjunto de entrenamiento:\", score_train)\n",
    "print(\"Accuracy del modelo de regresión logística en el conjunto de validación:\", score_valid)"
   ]
  },
  {
   "cell_type": "markdown",
   "metadata": {},
   "source": [
    "De todos los modelos con los que se realizó la prueba, el mejor es el bosque aleatorio con hiperparámetro de profundidad y el menos eficiente con bastante diferencia fue el de regresión logística. \n",
    "Entre los bosques aleatorios la diferencia es mínima, sin embargo, se seleccionó el de profundidad ya que se ajusta perfectamente a los tipos de datos que estamos usando para este ejercicio ya que no son complejos y al aplicar una profundidad sin tantos árboles correrá mas rapido el algoritmo, sin mencionar que con mejor resultado."
   ]
  },
  {
   "cell_type": "markdown",
   "metadata": {},
   "source": [
    "## Comprobación de la calidad del modelo seleccionado con conjunto de prueba"
   ]
  },
  {
   "cell_type": "code",
   "execution_count": 24,
   "metadata": {},
   "outputs": [
    {
     "name": "stdout",
     "output_type": "stream",
     "text": [
      "Exactitud del mejor modelo en el conjunto de prueba: 0.8055987558320373\n"
     ]
    }
   ],
   "source": [
    "# Entrenamiento del mejor modelo con todos los datos de entrenamiento\n",
    "best_model = RandomForestClassifier(\n",
    "    random_state=24680, n_estimators=30, max_depth=5)\n",
    "best_model.fit(train_features, train_target)\n",
    "\n",
    "# Evaluación del modelo en el conjunto de datos de prueba\n",
    "accuracy_test = best_model.score(test_features, test_target)\n",
    "print(f\"Exactitud del mejor modelo en el conjunto de prueba: {accuracy_test}\")"
   ]
  },
  {
   "cell_type": "markdown",
   "metadata": {},
   "source": [
    "La exactitud con el modelo seleccionado arrojó un 0.8 la cual podría ser considerado como aceptable, aunque hay mucho campo de mejora si se llega a analizar a mas profundidad las diferentes características de cada plan y ver la relevancia con cada plan. "
   ]
  },
  {
   "cell_type": "markdown",
   "metadata": {},
   "source": [
    "## Prueba de cordura al modelo seleccionado."
   ]
  },
  {
   "cell_type": "code",
   "execution_count": 25,
   "metadata": {},
   "outputs": [
    {
     "name": "stdout",
     "output_type": "stream",
     "text": [
      "Exactitud del modelo dummy es de: 0.6936236391912908\n"
     ]
    }
   ],
   "source": [
    "# asignación y entrenamiento del modelo dummy para testeo\n",
    "dummy_model = DummyClassifier(strategy=\"most_frequent\", random_state=24680)\n",
    "dummy_model.fit(train_features, train_target)\n",
    "\n",
    "accuracy_dummy = dummy_model.score(test_features, test_target)\n",
    "print(f\"Exactitud del modelo dummy es de: {accuracy_dummy}\")"
   ]
  },
  {
   "cell_type": "markdown",
   "metadata": {},
   "source": [
    "De acuerdo al resultado con el modelo dummy, nuestro modelo seleccionado es aún mejor."
   ]
  },
  {
   "cell_type": "markdown",
   "metadata": {},
   "source": [
    "Conclusión: La primer prueba fue la matriz de confusión, la cual nos arrojó: 422 verdaderos positivos, 24 falsos positivos, 96 verdaderos negativos y 101 falsos negativos . la exactitud de nuestro modelo es del 80% junto con la precision de encontrar positivos. Tenemos un F1 score de 0.6 que es el equilibrio entre el recall y la precisión y es bueno. \n",
    "El campo de mejora aquí es el recall que es de 0.48, significando que el programa tiene dificultades para clasificar los positivos, en este caso el plan ultra. en nuestro modelo no hay mucho problema ya que la exactitud y la precision es buena pero si se incrementan los datos, a la larga el algoritmo puede comenzar a clasifcar los datos como negativos, siendo positivos. \n",
    "\n",
    "Una razón para explicar la dificultad de la identificación es que se tiene una mayor población de plan smart y el ultra al ser minoría, habrá ciertos parametros que el algoritmo no identifica correctamente y tendría que ajustarse a mano o conseguir mas datos sobre los planes ultra. "
   ]
  },
  {
   "cell_type": "markdown",
   "metadata": {},
   "source": [
    "## Paso extra"
   ]
  },
  {
   "cell_type": "markdown",
   "metadata": {},
   "source": [
    "A continuación realizaré diferentes gráficas para las características de los conjuntos, para ver la comparación entre los planes pronosticados de manera erronea y los verdaderos."
   ]
  },
  {
   "cell_type": "code",
   "execution_count": 26,
   "metadata": {},
   "outputs": [
    {
     "name": "stdout",
     "output_type": "stream",
     "text": [
      "DataFrame de predicciones incorrectas:\n",
      "      calls  minutes  messages   mb_used  is_ultra\n",
      "1427   87.0   635.32      30.0  20478.76       1.0\n",
      "2441   55.0   369.67      47.0  11584.49       1.0\n",
      "565   112.0   856.90       0.0  28002.44       0.0\n",
      "2074   68.0   501.10      87.0  10983.84       1.0\n",
      "524    33.0   281.77      75.0  13933.01       1.0\n",
      "Nuevo DataFrame sin las predicciones incorrectas:\n",
      "      calls  minutes  messages   mb_used  is_ultra\n",
      "2281   34.0   258.97     107.0  10294.77         0\n",
      "1955   27.0   171.60       8.0   6974.14         0\n",
      "172    37.0   229.15     110.0   2000.51         0\n",
      "156    33.0   228.98      12.0  18113.83         0\n",
      "631    69.0   389.89     103.0  22633.64         0\n"
     ]
    }
   ],
   "source": [
    "test_df = pd.concat([test_features, test_target], axis=1)\n",
    "\n",
    "# Crear un DataFrame para almacenar las filas correspondientes a las predicciones incorrectas\n",
    "incorrect_df = pd.DataFrame(columns=test_df.columns)\n",
    "\n",
    "# Iterar sobre los índices incorrectos y agregar las filas correspondientes al nuevo DataFrame\n",
    "for i in range(len(true_values)):\n",
    "    if true_values[i] != test_predictions[i]:\n",
    "        # Se utiliza iloc para seleccionar la fila por su índice\n",
    "        fila = test_df.iloc[i]\n",
    "        incorrect_df = incorrect_df.append(fila)\n",
    "\n",
    "# Eliminar las filas correspondientes a las predicciones incorrectas del DataFrame original\n",
    "new_test_df = test_df.drop(incorrect_df.index)\n",
    "\n",
    "print(\"DataFrame de predicciones incorrectas:\")\n",
    "print(incorrect_df.head())\n",
    "print(\"Nuevo DataFrame sin las predicciones incorrectas:\")\n",
    "print(new_test_df.head())"
   ]
  },
  {
   "cell_type": "code",
   "execution_count": 27,
   "metadata": {},
   "outputs": [
    {
     "data": {
      "image/png": "[encoded data removed]",
      "text/plain": [
       "<Figure size 864x432 with 1 Axes>"
      ]
     },
     "metadata": {
      "needs_background": "light"
     },
     "output_type": "display_data"
    }
   ],
   "source": [
    "plt.figure(figsize=(12, 6))\n",
    "\n",
    "# Gráfico de barras para el DataFrame test_df\n",
    "sns.barplot(x='is_ultra', y='calls', data=test_df,\n",
    "            color='black', label='datos correctos')\n",
    "\n",
    "# Gráfico de barras para el DataFrame incorrect_df\n",
    "sns.barplot(x='is_ultra', y='calls', data=incorrect_df,\n",
    "            color='red', alpha=0.5, label='Predicciones incorrectas')\n",
    "\n",
    "plt.xlabel('Plan')\n",
    "plt.ylabel('Llamadas')\n",
    "plt.title('Llamadas para los dos planes')\n",
    "plt.legend()\n",
    "plt.show()"
   ]
  },
  {
   "cell_type": "code",
   "execution_count": 28,
   "metadata": {},
   "outputs": [
    {
     "data": {
      "image/png": "[encoded data removed]",
      "text/plain": [
       "<Figure size 864x432 with 1 Axes>"
      ]
     },
     "metadata": {
      "needs_background": "light"
     },
     "output_type": "display_data"
    }
   ],
   "source": [
    "plt.figure(figsize=(12, 6))\n",
    "\n",
    "# Gráfico de barras para el DataFrame test_df\n",
    "sns.barplot(x='is_ultra', y='minutes', data=test_df,\n",
    "            color='black', label='datos correctos')\n",
    "\n",
    "# Gráfico de barras para el DataFrame incorrect_df\n",
    "sns.barplot(x='is_ultra', y='minutes', data=incorrect_df,\n",
    "            color='red', alpha=0.5, label='Predicciones incorrectas')\n",
    "\n",
    "plt.xlabel('Plan')\n",
    "plt.ylabel('minutos')\n",
    "plt.title('minutos para los dos planes')\n",
    "plt.legend()\n",
    "plt.show()"
   ]
  },
  {
   "cell_type": "code",
   "execution_count": 29,
   "metadata": {},
   "outputs": [
    {
     "data": {
      "image/png": "[encoded data removed]",
      "text/plain": [
       "<Figure size 864x432 with 1 Axes>"
      ]
     },
     "metadata": {
      "needs_background": "light"
     },
     "output_type": "display_data"
    }
   ],
   "source": [
    "plt.figure(figsize=(12, 6))\n",
    "\n",
    "# Gráfico de barras para el DataFrame test_df\n",
    "sns.barplot(x='is_ultra', y='messages', data=test_df,\n",
    "            color='black', label='datos correctos')\n",
    "\n",
    "# Gráfico de barras para el DataFrame incorrect_df\n",
    "sns.barplot(x='is_ultra', y='messages', data=incorrect_df,\n",
    "            color='red', alpha=0.5, label='Predicciones incorrectas')\n",
    "\n",
    "plt.xlabel('Plan')\n",
    "plt.ylabel('mensajes')\n",
    "plt.title('mensajes para los dos planes')\n",
    "plt.legend()\n",
    "plt.show()"
   ]
  },
  {
   "cell_type": "code",
   "execution_count": 30,
   "metadata": {},
   "outputs": [
    {
     "data": {
      "image/png": "[encoded data removed]",
      "text/plain": [
       "<Figure size 864x432 with 1 Axes>"
      ]
     },
     "metadata": {
      "needs_background": "light"
     },
     "output_type": "display_data"
    }
   ],
   "source": [
    "plt.figure(figsize=(12, 6))\n",
    "\n",
    "# Gráfico de barras para el DataFrame test_df\n",
    "sns.barplot(x='is_ultra', y='mb_used', data=test_df,\n",
    "            color='black', label='datos correctos')\n",
    "\n",
    "# Gráfico de barras para el DataFrame incorrect_df\n",
    "sns.barplot(x='is_ultra', y='mb_used', data=incorrect_df,\n",
    "            color='red', alpha=0.5, label='Predicciones incorrectas')\n",
    "\n",
    "plt.xlabel('Plan')\n",
    "plt.ylabel('megas')\n",
    "plt.title('megas para los dos planes')\n",
    "plt.legend()\n",
    "plt.show()"
   ]
  },
  {
   "cell_type": "markdown",
   "metadata": {},
   "source": [
    "Conclusión: ésta última revisión nos muestra una comparación entre los datos pronosticados de manera erronea y los correctos ya que hay un recall alto. De ser necesario modificar algún parametro del algoritmo se pudiera llegar a una decisión mas correcta o cercana a la realidad.\n",
    "En los gráficos se puede ver que las llamadas realizadas y los minutos son los problemáticos ya que el promedio fue cerca de 60 llamadas para el plan smart y el algoritmo lo está catalogando entre 95 y 100 llamadas por mes. \n",
    "En cuanto a los minutos, el plan smart promedio fue cerca de 400 min y el algoritmo para los datos erroneos fue entre 600 y 650 min.\n",
    "El gráfico de los mensajes esta muy cerca de los verdaderos datos y el de megas hay una diferencia entre los verdaderos y los erroneos en el plan smart por cerca de 1 gb de diferencia entre los datos reales y los pronosticados. \n",
    "\n",
    "Éstas serían algunas áreas de mejoras para trabajar con el algoritmo en dado de requerir una mayor exactitud a la hora de pronosticar aquellos con un plan minoritario y mas difícil de predecir, que es el 'ultra'."
   ]
  },
  {
   "cell_type": "markdown",
   "metadata": {},
   "source": [
    "<div class=\"alert alert-block alert-success\">\n",
    "    \n",
    "# Comentarios generales\n",
    "<b>Comentario del revisor</b> <a class=\"tocSkip\"></a>\n",
    "    \n",
    "Todo corregido. Has aprobado un nuevo proyecto. ¡Felicitaciones!\n",
    "</div>"
   ]
  }
 ],
 "metadata": {
  "kernelspec": {
   "display_name": "Python 3 (ipykernel)",
   "language": "python",
   "name": "python3"
  },
  "language_info": {
   "codemirror_mode": {
    "name": "ipython",
    "version": 3
   },
   "file_extension": ".py",
   "mimetype": "text/x-python",
   "name": "python",
   "nbconvert_exporter": "python",
   "pygments_lexer": "ipython3",
   "version": "3.9.19"
  },
  "toc": {
   "base_numbering": 1,
   "nav_menu": {},
   "number_sections": true,
   "sideBar": true,
   "skip_h1_title": true,
   "title_cell": "Table of Contents",
   "title_sidebar": "Contents",
   "toc_cell": false,
   "toc_position": {},
   "toc_section_display": true,
   "toc_window_display": false
  }
 },
 "nbformat": 4,
 "nbformat_minor": 2
}
